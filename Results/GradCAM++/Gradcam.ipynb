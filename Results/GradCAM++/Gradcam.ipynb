{
 "cells": [
  {
   "cell_type": "code",
   "execution_count": 1,
   "metadata": {},
   "outputs": [],
   "source": [
    "import torch\n",
    "import pandas as pd\n",
    "from ultralytics import YOLO\n",
    "from pytorch_grad_cam import GradCAMPlusPlus\n",
    "from pytorch_grad_cam.utils.image import preprocess_image, show_cam_on_image\n",
    "import cv2\n",
    "import numpy as np\n",
    "import os"
   ]
  },
  {
   "cell_type": "code",
   "execution_count": null,
   "metadata": {},
   "outputs": [],
   "source": [
    "# i not sure which one is your model import yourself\n",
    "model = YOLO('path/to/yolov8/model.pt')\n",
    "model = model.to('cuda' if torch.cuda.is_available() else 'cpu')\n",
    "\n",
    "target_layer = model.model.model[-1]\n",
    "\n",
    "image_paths = [r\"C:\\Users\\dunli\\Documents\\STSY-project-main\\Training Data\\test\\images\"] # need to change to your testing image\n",
    "\n",
    "results_df = pd.DataFrame(columns=['Image', 'Class', 'Confidence', 'GradCAM_Path'])\n",
    "\n",
    "for image_path in image_paths:\n",
    "    rgb_img = cv2.imread(image_path, cv2.IMREAD_COLOR)\n",
    "    rgb_img = np.float32(rgb_img) / 255\n",
    "\n",
    "    input_tensor = preprocess_image(\n",
    "        rgb_img, mean=[0.5, 0.5, 0.5], std=[0.5, 0.5, 0.5]\n",
    "    ).to('cuda' if torch.cuda.is_available() else 'cpu')\n",
    "\n",
    "    cam = GradCAMPlusPlus(model=model.model, target_layers=[target_layer])\n",
    "    grayscale_cam = cam(input_tensor=input_tensor)[0]\n",
    "\n",
    "    heatmap = cv2.applyColorMap(\n",
    "        np.uint8(255 * grayscale_cam), cv2.COLORMAP_JET\n",
    "    )\n",
    "    heatmap = heatmap.astype(np.float32) / 255\n",
    "\n",
    "    alpha = 0.3\n",
    "    final_output = cv2.addWeighted(rgb_img, alpha, heatmap, 1 - alpha, 0)\n",
    "\n",
    "    heatmap_path = f\"gradcam_{os.path.basename(image_path)}\"\n",
    "    cv2.imwrite(heatmap_path, (final_output * 255).astype(np.uint8))\n",
    "\n",
    "    yolo_results = model(image_path)\n",
    "    for result in yolo_results:\n",
    "        for box in result.boxes:\n",
    "            class_name = box.cls\n",
    "            confidence = box.conf\n",
    "\n",
    "            results_df = results_df.append({\n",
    "                'Image': image_path,\n",
    "                'Class': class_name,\n",
    "                'Confidence': confidence,\n",
    "                'GradCAM_Path': heatmap_path\n",
    "            }, ignore_index=True)\n",
    "\n",
    "print(results_df)"
   ]
  }
 ],
 "metadata": {
  "kernelspec": {
   "display_name": "Python 3",
   "language": "python",
   "name": "python3"
  },
  "language_info": {
   "codemirror_mode": {
    "name": "ipython",
    "version": 3
   },
   "file_extension": ".py",
   "mimetype": "text/x-python",
   "name": "python",
   "nbconvert_exporter": "python",
   "pygments_lexer": "ipython3",
   "version": "3.11.6"
  }
 },
 "nbformat": 4,
 "nbformat_minor": 2
}
