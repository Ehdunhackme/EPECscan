{
 "cells": [
  {
   "cell_type": "code",
   "execution_count": null,
   "metadata": {},
   "outputs": [],
   "source": [
    "import time\n",
    "from sklearn.metrics import roc_auc_score\n",
    "import numpy as np\n",
    "from ultralytics import YOLO\n",
    "\n",
    "# Load the trained model (replace \"best_model.pt\" with the path to your best model's weights)\n",
    "best_model_path = \"best_model.pt\"\n",
    "model = YOLO(weights=best_model_path).cuda()\n",
    "\n",
    "# Path to test images directory\n",
    "test_images_dir = \"path/to/test/images\"\n",
    "\n",
    "# Initialize lists to store predicted probabilities and ground truth labels\n",
    "predicted_probs = []\n",
    "ground_truth_labels = []\n",
    "\n",
    "# Measure processing time\n",
    "start_time = time.time()\n",
    "\n",
    "# Perform inference on test data\n",
    "for image_path in test_images_dir:\n",
    "    results = model(image_path)\n",
    "    # Extract predicted probabilities and ground truth labels\n",
    "    predicted_probs.append(results.pred[:, 4].numpy())  # Assuming the confidence scores are in the 5th column\n",
    "    ground_truth_labels.append(results.tl[:, 0].numpy())  # Assuming the class labels are in the 1st column\n",
    "\n",
    "# Calculate AUC-ROC\n",
    "predicted_probs = np.concatenate(predicted_probs)\n",
    "ground_truth_labels = np.concatenate(ground_truth_labels)\n",
    "auc_roc = roc_auc_score(ground_truth_labels, predicted_probs)\n",
    "\n",
    "# Calculate processing time\n",
    "processing_time = time.time() - start_time\n",
    "\n",
    "# Print AUC-ROC and processing time\n",
    "print(\"AUC-ROC:\", auc_roc)\n",
    "print(\"Processing Time:\", processing_time, \"seconds\")"
   ]
  }
 ],
 "metadata": {
  "kernelspec": {
   "display_name": "Python 3",
   "language": "python",
   "name": "python3"
  },
  "language_info": {
   "name": "python",
   "version": "3.11.0"
  }
 },
 "nbformat": 4,
 "nbformat_minor": 2
}
