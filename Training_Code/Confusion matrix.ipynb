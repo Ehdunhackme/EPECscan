{
 "cells": [
  {
   "cell_type": "code",
   "execution_count": null,
   "metadata": {},
   "outputs": [],
   "source": [
    "import os \n",
    "import numpy as np\n",
    "\n",
    "# Load saved predictions and ground truth labels\n",
    "save_path = r\"C:\\Users\\dunli\\Documents\\STSY-project-main\\Training_Code\\prediction\"\n",
    "predictions = np.load(os.path.join(save_path, 'predictions.npy'), allow_pickle=True)\n",
    "ground_truths = np.load(os.path.join(save_path, 'ground_truths.npy'), allow_pickle=True)"
   ]
  },
  {
   "cell_type": "code",
   "execution_count": null,
   "metadata": {},
   "outputs": [],
   "source": [
    "from sklearn.metrics import confusion_matrix\n",
    "import matplotlib.pyplot as plt\n",
    "import seaborn as sns\n",
    "\n",
    "# Define class names (excluding background)\n",
    "class_names = ['rod', 'microcolony']\n",
    "\n",
    "# Flatten predictions and ground truths\n",
    "all_preds = np.concatenate(predictions)\n",
    "all_targets = np.concatenate(ground_truths)\n",
    "\n",
    "# Extract class labels (last column) and filter out background class (if necessary)\n",
    "pred_classes = all_preds[:, -1].astype(int)\n",
    "target_classes = all_targets[:, -1].astype(int)\n",
    "\n",
    "# Create confusion matrix\n",
    "cm = confusion_matrix(target_classes, pred_classes, labels=range(len(class_names)))\n",
    "\n",
    "# Plot confusion matrix\n",
    "plt.figure(figsize=(10, 8))\n",
    "sns.heatmap(cm, annot=True, fmt='d', xticklabels=class_names, yticklabels=class_names, cmap='Blues')\n",
    "plt.xlabel('Predicted')\n",
    "plt.ylabel('True')\n",
    "plt.title('Confusion Matrix')\n",
    "plt.show()"
   ]
  }
 ],
 "metadata": {
  "kernelspec": {
   "display_name": "Python 3",
   "language": "python",
   "name": "python3"
  },
  "language_info": {
   "codemirror_mode": {
    "name": "ipython",
    "version": 3
   },
   "file_extension": ".py",
   "mimetype": "text/x-python",
   "name": "python",
   "nbconvert_exporter": "python",
   "pygments_lexer": "ipython3",
   "version": "3.11.0"
  }
 },
 "nbformat": 4,
 "nbformat_minor": 2
}
