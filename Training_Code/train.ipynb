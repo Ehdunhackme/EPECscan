{
 "cells": [
  {
   "cell_type": "code",
   "execution_count": null,
   "metadata": {},
   "outputs": [],
   "source": [
    "import os\n",
    "import numpy as np\n",
    "from ultralytics import YOLO\n",
    "\n",
    "# Define a function to save predictions and ground truths\n",
    "def save_predictions(model, save_path):\n",
    "    os.makedirs(save_path, exist_ok=True)\n",
    "    predictions = []\n",
    "    ground_truths = []\n",
    "\n",
    "    for batch_i, (img, targets, paths, shapes) in enumerate(model.dataloader):\n",
    "        img = img.to(model.device, non_blocking=True)\n",
    "        targets = targets.to(model.device)\n",
    "        \n",
    "        # Inference\n",
    "        preds = model(img)\n",
    "        \n",
    "        # Convert predictions and targets to CPU numpy arrays\n",
    "        preds = preds.cpu().numpy()\n",
    "        targets = targets.cpu().numpy()\n",
    "\n",
    "        predictions.append(preds)\n",
    "        ground_truths.append(targets)\n",
    "\n",
    "    # Save predictions and ground truths to .npy files\n",
    "    np.save(os.path.join(save_path, 'predictions.npy'), predictions)\n",
    "    np.save(os.path.join(save_path, 'ground_truths.npy'), ground_truths)\n",
    "\n",
    "# Initialize the model\n",
    "model = YOLO(\"yolov8m.yaml\").cuda()\n",
    "\n",
    "# Train the model\n",
    "model.train(\n",
    "    data=r\"C:\\Users\\dunli\\Documents\\STSY-project-main\\config.yaml\",\n",
    "    batch=8,\n",
    "    imgsz=640,\n",
    "    epochs=150,\n",
    "    workers=8,\n",
    ")\n",
    "\n",
    "# Save predictions and ground truths\n",
    "save_path = r\"C:\\Users\\dunli\\Documents\\STSY-project-main\\Training_Code\\prediction\"\n",
    "save_predictions(model, save_path)"
   ]
  }
 ],
 "metadata": {
  "kernelspec": {
   "display_name": "Python 3",
   "language": "python",
   "name": "python3"
  },
  "language_info": {
   "codemirror_mode": {
    "name": "ipython",
    "version": 3
   },
   "file_extension": ".py",
   "mimetype": "text/x-python",
   "name": "python",
   "nbconvert_exporter": "python",
   "pygments_lexer": "ipython3",
   "version": "3.11.6"
  }
 },
 "nbformat": 4,
 "nbformat_minor": 2
}
