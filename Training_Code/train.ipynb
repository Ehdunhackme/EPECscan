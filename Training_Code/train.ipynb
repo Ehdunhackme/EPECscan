{
 "cells": [
  {
   "cell_type": "code",
   "execution_count": null,
   "metadata": {},
   "outputs": [],
   "source": [
    "from ultralytics import YOLO\n",
    "\n",
    "# Initialize the model\n",
    "model = YOLO(\"yolov8m.yaml\").cuda()\n",
    "\n",
    "# Train the model\n",
    "model.train(\n",
    "    data=r\"C:\\Users\\dunli\\Documents\\STSY-project-main\\config.yaml\",\n",
    "    batch=8,\n",
    "    imgsz=640,\n",
    "    epochs=150,\n",
    "    workers=8,\n",
    ")"
   ]
  }
 ],
 "metadata": {
  "kernelspec": {
   "display_name": "Python 3",
   "language": "python",
   "name": "python3"
  },
  "language_info": {
   "codemirror_mode": {
    "name": "ipython",
    "version": 3
   },
   "file_extension": ".py",
   "mimetype": "text/x-python",
   "name": "python",
   "nbconvert_exporter": "python",
   "pygments_lexer": "ipython3",
   "version": "3.11.6"
  }
 },
 "nbformat": 4,
 "nbformat_minor": 2
}
